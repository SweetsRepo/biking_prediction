{
 "cells": [
  {
   "cell_type": "markdown",
   "metadata": {},
   "source": [
    "# Biking Prediction with Neural Networks"
   ]
  },
  {
   "cell_type": "markdown",
   "metadata": {},
   "source": [
    "### Overview - In previous work a neural network was written from scratch to translate biking times into distance. It is the goal of this interactive notebook to supercharge my previous project by providing direct access to Strava data through V3 of their API and a TensorFlow Implementation of a feed-forward neural network."
   ]
  },
  {
   "cell_type": "code",
   "execution_count": 1,
   "metadata": {
    "collapsed": true
   },
   "outputs": [],
   "source": [
    "#Import Dependicies and setup local config\n",
    "import stravalib\n",
    "import BaseHTTPServer\n",
    "import webbrowser\n",
    "import tensorflow as tf\n",
    "\n",
    "with open('client.secret') as f:\n",
    "    client_id, secret = f.read().strip().split(',')\n",
    "port = 8080\n",
    "url = 'http://localhost:%d/authorized' % port\n"
   ]
  },
  {
   "cell_type": "code",
   "execution_count": null,
   "metadata": {
    "collapsed": true
   },
   "outputs": [],
   "source": [
    "#Establish a webservice to access data through\n",
    "client = stravalib.client.Client()\n",
    "authorize_url = client.authorization_url(client_id=client_id, redirect_uri = url)\n",
    "webbrowser.open(authorize_url)\n"
   ]
  },
  {
   "cell_type": "code",
   "execution_count": null,
   "metadata": {
    "collapsed": true
   },
   "outputs": [],
   "source": [
    "#Establish Neural Network Model Architecture\n",
    "\n",
    "#Pulled directly from Tensor-Ops lib\n",
    "def affine(x, output_dim, scope=None, stddev=1.0, const=0.1):\n",
    "    \"\"\"\n",
    "    Fully connected affine layer with weight and bias initialized using inputs or defaults\n",
    "    :param x: Input data to layer\n",
    "    :param output_dim: Desired output layer nodes\n",
    "    :param scope: (Optional) Name to scope the variable with\n",
    "    :param stddev: (Optional) Standard Deviation to initialize weights with\n",
    "    :param const: (Optional) Constant value to initialize biases with\n",
    "    :return: Output fully-connected layer\n",
    "    \"\"\"\n",
    "    with tf.variable_scope(scope or 'linear'):\n",
    "        w = tf.get_variable('W', [x.get_shape()[1], output_dim], tf.float32,\n",
    "                            initializer=tf.truncated_normal_initializer(stddev=stddev))\n",
    "        b = tf.get_variable('b', [output_dim], tf.float32, initializer=tf.constant_initializer(const))\n",
    "        return tf.matmul(x, w) + b\n",
    "\n",
    "#Hyperparameters\n",
    "feature_size = 5\n",
    "h_dim = 100\n",
    "dropout_percent = 0.5\n",
    "\n",
    "#Training Config\n",
    "config = {}\n",
    "config['epoch'] = 5\n",
    "config['bs'] = 15\n",
    "config['lr'] = 5e-4\n",
    "config['lam'] = 0.5\n",
    "config['b1'] = 0.5\n",
    "\n",
    "#Directories\n",
    "checkpoint_dir = './checkpoints/'\n",
    "log_dir = './logs/'\n",
    "\n",
    "#Input and Optimization Function\n",
    "x = tf.placeholder(tf.float32, shape=[None, feature_size], name='input')\n",
    "    \n",
    "with tf.variable_scope('model'):\n",
    "    #Pass through a 5 layer NN\n",
    "    h1 = affine(x, h_dim, 'h1')\n",
    "    a1 = tf.nn.relu(h1)\n",
    "    h2 = affine(a1, h_dim, 'h2')\n",
    "    a2 = tf.nn.relu(h2)\n",
    "    h3 = affine(a2, h_dim, 'h3')\n",
    "    a3 = tf.nn.relu(h3)\n",
    "    #Dropout\n"
   ]
  }
 ],
 "metadata": {
  "kernelspec": {
   "display_name": "Python 3",
   "language": "python",
   "name": "python3"
  },
  "language_info": {
   "codemirror_mode": {
    "name": "ipython",
    "version": 3
   },
   "file_extension": ".py",
   "mimetype": "text/x-python",
   "name": "python",
   "nbconvert_exporter": "python",
   "pygments_lexer": "ipython3",
   "version": "3.5.2"
  }
 },
 "nbformat": 4,
 "nbformat_minor": 2
}
